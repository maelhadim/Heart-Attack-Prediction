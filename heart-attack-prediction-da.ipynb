{
 "cells": [
  {
   "cell_type": "code",
   "execution_count": 1,
   "id": "d08523bc",
   "metadata": {
    "_cell_guid": "b1076dfc-b9ad-4769-8c92-a6c4dae69d19",
    "_uuid": "8f2839f25d086af736a60e9eeb907d3b93b6e0e5",
    "execution": {
     "iopub.execute_input": "2025-02-25T19:55:28.462207Z",
     "iopub.status.busy": "2025-02-25T19:55:28.461838Z",
     "iopub.status.idle": "2025-02-25T19:55:29.464655Z",
     "shell.execute_reply": "2025-02-25T19:55:29.463582Z"
    },
    "papermill": {
     "duration": 1.01253,
     "end_time": "2025-02-25T19:55:29.466496",
     "exception": false,
     "start_time": "2025-02-25T19:55:28.453966",
     "status": "completed"
    },
    "tags": []
   },
   "outputs": [],
   "source": [
    "\n",
    "\n",
    "import numpy as np # linear algebra\n",
    "import pandas as pd # data processing,\n",
    "\n"
   ]
  },
  {
   "cell_type": "markdown",
   "id": "037729bd",
   "metadata": {
    "papermill": {
     "duration": 0.006391,
     "end_time": "2025-02-25T19:55:29.479431",
     "exception": false,
     "start_time": "2025-02-25T19:55:29.473040",
     "status": "completed"
    },
    "tags": []
   },
   "source": [
    "Lets Lode the dataset"
   ]
  },
  {
   "cell_type": "code",
   "execution_count": 2,
   "id": "037d164e",
   "metadata": {
    "execution": {
     "iopub.execute_input": "2025-02-25T19:55:29.492995Z",
     "iopub.status.busy": "2025-02-25T19:55:29.492485Z",
     "iopub.status.idle": "2025-02-25T19:55:31.670056Z",
     "shell.execute_reply": "2025-02-25T19:55:31.669032Z"
    },
    "papermill": {
     "duration": 2.186153,
     "end_time": "2025-02-25T19:55:31.671531",
     "exception": false,
     "start_time": "2025-02-25T19:55:29.485378",
     "status": "completed"
    },
    "tags": []
   },
   "outputs": [
    {
     "data": {
      "text/html": [
       "<div>\n",
       "<style scoped>\n",
       "    .dataframe tbody tr th:only-of-type {\n",
       "        vertical-align: middle;\n",
       "    }\n",
       "\n",
       "    .dataframe tbody tr th {\n",
       "        vertical-align: top;\n",
       "    }\n",
       "\n",
       "    .dataframe thead th {\n",
       "        text-align: right;\n",
       "    }\n",
       "</style>\n",
       "<table border=\"1\" class=\"dataframe\">\n",
       "  <thead>\n",
       "    <tr style=\"text-align: right;\">\n",
       "      <th></th>\n",
       "      <th>Age</th>\n",
       "      <th>Gender</th>\n",
       "      <th>Cholesterol</th>\n",
       "      <th>BloodPressure</th>\n",
       "      <th>HeartRate</th>\n",
       "      <th>BMI</th>\n",
       "      <th>Smoker</th>\n",
       "      <th>Diabetes</th>\n",
       "      <th>Hypertension</th>\n",
       "      <th>FamilyHistory</th>\n",
       "      <th>...</th>\n",
       "      <th>ExerciseInducedAngina</th>\n",
       "      <th>Slope</th>\n",
       "      <th>NumberOfMajorVessels</th>\n",
       "      <th>Thalassemia</th>\n",
       "      <th>PreviousHeartAttack</th>\n",
       "      <th>StrokeHistory</th>\n",
       "      <th>Residence</th>\n",
       "      <th>EmploymentStatus</th>\n",
       "      <th>MaritalStatus</th>\n",
       "      <th>Outcome</th>\n",
       "    </tr>\n",
       "  </thead>\n",
       "  <tbody>\n",
       "    <tr>\n",
       "      <th>0</th>\n",
       "      <td>31</td>\n",
       "      <td>Male</td>\n",
       "      <td>194</td>\n",
       "      <td>162</td>\n",
       "      <td>71</td>\n",
       "      <td>22.9</td>\n",
       "      <td>0</td>\n",
       "      <td>1</td>\n",
       "      <td>0</td>\n",
       "      <td>0</td>\n",
       "      <td>...</td>\n",
       "      <td>Yes</td>\n",
       "      <td>Downsloping</td>\n",
       "      <td>1</td>\n",
       "      <td>Normal</td>\n",
       "      <td>0</td>\n",
       "      <td>0</td>\n",
       "      <td>Suburban</td>\n",
       "      <td>Retired</td>\n",
       "      <td>Single</td>\n",
       "      <td>No Heart Attack</td>\n",
       "    </tr>\n",
       "    <tr>\n",
       "      <th>1</th>\n",
       "      <td>69</td>\n",
       "      <td>Male</td>\n",
       "      <td>208</td>\n",
       "      <td>148</td>\n",
       "      <td>93</td>\n",
       "      <td>33.9</td>\n",
       "      <td>1</td>\n",
       "      <td>1</td>\n",
       "      <td>0</td>\n",
       "      <td>0</td>\n",
       "      <td>...</td>\n",
       "      <td>Yes</td>\n",
       "      <td>Upsloping</td>\n",
       "      <td>2</td>\n",
       "      <td>Normal</td>\n",
       "      <td>0</td>\n",
       "      <td>0</td>\n",
       "      <td>Suburban</td>\n",
       "      <td>Unemployed</td>\n",
       "      <td>Married</td>\n",
       "      <td>No Heart Attack</td>\n",
       "    </tr>\n",
       "    <tr>\n",
       "      <th>2</th>\n",
       "      <td>34</td>\n",
       "      <td>Female</td>\n",
       "      <td>132</td>\n",
       "      <td>161</td>\n",
       "      <td>94</td>\n",
       "      <td>34.0</td>\n",
       "      <td>0</td>\n",
       "      <td>0</td>\n",
       "      <td>1</td>\n",
       "      <td>1</td>\n",
       "      <td>...</td>\n",
       "      <td>Yes</td>\n",
       "      <td>Upsloping</td>\n",
       "      <td>0</td>\n",
       "      <td>Normal</td>\n",
       "      <td>1</td>\n",
       "      <td>0</td>\n",
       "      <td>Rural</td>\n",
       "      <td>Retired</td>\n",
       "      <td>Single</td>\n",
       "      <td>Heart Attack</td>\n",
       "    </tr>\n",
       "    <tr>\n",
       "      <th>3</th>\n",
       "      <td>53</td>\n",
       "      <td>Male</td>\n",
       "      <td>268</td>\n",
       "      <td>134</td>\n",
       "      <td>91</td>\n",
       "      <td>35.0</td>\n",
       "      <td>0</td>\n",
       "      <td>1</td>\n",
       "      <td>1</td>\n",
       "      <td>0</td>\n",
       "      <td>...</td>\n",
       "      <td>Yes</td>\n",
       "      <td>Flat</td>\n",
       "      <td>0</td>\n",
       "      <td>Reversible defect</td>\n",
       "      <td>1</td>\n",
       "      <td>0</td>\n",
       "      <td>Suburban</td>\n",
       "      <td>Retired</td>\n",
       "      <td>Widowed</td>\n",
       "      <td>No Heart Attack</td>\n",
       "    </tr>\n",
       "    <tr>\n",
       "      <th>4</th>\n",
       "      <td>57</td>\n",
       "      <td>Female</td>\n",
       "      <td>203</td>\n",
       "      <td>140</td>\n",
       "      <td>75</td>\n",
       "      <td>30.1</td>\n",
       "      <td>0</td>\n",
       "      <td>1</td>\n",
       "      <td>0</td>\n",
       "      <td>0</td>\n",
       "      <td>...</td>\n",
       "      <td>Yes</td>\n",
       "      <td>Flat</td>\n",
       "      <td>0</td>\n",
       "      <td>Fixed defect</td>\n",
       "      <td>1</td>\n",
       "      <td>0</td>\n",
       "      <td>Rural</td>\n",
       "      <td>Retired</td>\n",
       "      <td>Married</td>\n",
       "      <td>Heart Attack</td>\n",
       "    </tr>\n",
       "  </tbody>\n",
       "</table>\n",
       "<p>5 rows × 32 columns</p>\n",
       "</div>"
      ],
      "text/plain": [
       "   Age  Gender  Cholesterol  BloodPressure  HeartRate   BMI  Smoker  Diabetes  \\\n",
       "0   31    Male          194            162         71  22.9       0         1   \n",
       "1   69    Male          208            148         93  33.9       1         1   \n",
       "2   34  Female          132            161         94  34.0       0         0   \n",
       "3   53    Male          268            134         91  35.0       0         1   \n",
       "4   57  Female          203            140         75  30.1       0         1   \n",
       "\n",
       "   Hypertension  FamilyHistory  ...  ExerciseInducedAngina        Slope  \\\n",
       "0             0              0  ...                    Yes  Downsloping   \n",
       "1             0              0  ...                    Yes    Upsloping   \n",
       "2             1              1  ...                    Yes    Upsloping   \n",
       "3             1              0  ...                    Yes         Flat   \n",
       "4             0              0  ...                    Yes         Flat   \n",
       "\n",
       "  NumberOfMajorVessels        Thalassemia PreviousHeartAttack  StrokeHistory  \\\n",
       "0                    1             Normal                   0              0   \n",
       "1                    2             Normal                   0              0   \n",
       "2                    0             Normal                   1              0   \n",
       "3                    0  Reversible defect                   1              0   \n",
       "4                    0       Fixed defect                   1              0   \n",
       "\n",
       "  Residence EmploymentStatus MaritalStatus          Outcome  \n",
       "0  Suburban          Retired        Single  No Heart Attack  \n",
       "1  Suburban       Unemployed       Married  No Heart Attack  \n",
       "2     Rural          Retired        Single     Heart Attack  \n",
       "3  Suburban          Retired       Widowed  No Heart Attack  \n",
       "4     Rural          Retired       Married     Heart Attack  \n",
       "\n",
       "[5 rows x 32 columns]"
      ]
     },
     "execution_count": 2,
     "metadata": {},
     "output_type": "execute_result"
    }
   ],
   "source": [
    "df = pd.read_csv(\"/kaggle/input/heart-attack-prediction-in-united-states/heart_attack_dataset.csv\")\n",
    "df.head()"
   ]
  },
  {
   "cell_type": "markdown",
   "id": "187fd434",
   "metadata": {
    "papermill": {
     "duration": 0.005855,
     "end_time": "2025-02-25T19:55:31.683747",
     "exception": false,
     "start_time": "2025-02-25T19:55:31.677892",
     "status": "completed"
    },
    "tags": []
   },
   "source": [
    "Before staritng the data analysis of this data set \"Heart-attack-prediction. We need to preform some data cleaning process so the data is perfect to be analyzed. Some of the steps we are going to preform on cleaning the dataset involves handling missing values, remove duplicates, fix data types, and some more that we will highlight throughout the process\n",
    "Now lets get started"
   ]
  },
  {
   "cell_type": "code",
   "execution_count": 3,
   "id": "4b2c4cd4",
   "metadata": {
    "execution": {
     "iopub.execute_input": "2025-02-25T19:55:31.697122Z",
     "iopub.status.busy": "2025-02-25T19:55:31.696750Z",
     "iopub.status.idle": "2025-02-25T19:55:31.960153Z",
     "shell.execute_reply": "2025-02-25T19:55:31.959111Z"
    },
    "papermill": {
     "duration": 0.271979,
     "end_time": "2025-02-25T19:55:31.961883",
     "exception": false,
     "start_time": "2025-02-25T19:55:31.689904",
     "status": "completed"
    },
    "tags": []
   },
   "outputs": [
    {
     "data": {
      "text/plain": [
       "Age                      0\n",
       "Gender                   0\n",
       "Cholesterol              0\n",
       "BloodPressure            0\n",
       "HeartRate                0\n",
       "BMI                      0\n",
       "Smoker                   0\n",
       "Diabetes                 0\n",
       "Hypertension             0\n",
       "FamilyHistory            0\n",
       "PhysicalActivity         0\n",
       "AlcoholConsumption       0\n",
       "Diet                     0\n",
       "StressLevel              0\n",
       "Ethnicity                0\n",
       "Income                   0\n",
       "EducationLevel           0\n",
       "Medication               0\n",
       "ChestPainType            0\n",
       "ECGResults               0\n",
       "MaxHeartRate             0\n",
       "ST_Depression            0\n",
       "ExerciseInducedAngina    0\n",
       "Slope                    0\n",
       "NumberOfMajorVessels     0\n",
       "Thalassemia              0\n",
       "PreviousHeartAttack      0\n",
       "StrokeHistory            0\n",
       "Residence                0\n",
       "EmploymentStatus         0\n",
       "MaritalStatus            0\n",
       "Outcome                  0\n",
       "dtype: int64"
      ]
     },
     "execution_count": 3,
     "metadata": {},
     "output_type": "execute_result"
    }
   ],
   "source": [
    "#Handling Missing Values\n",
    "\n",
    "df.isnull().sum()"
   ]
  },
  {
   "cell_type": "markdown",
   "id": "3318d7f4",
   "metadata": {
    "papermill": {
     "duration": 0.005987,
     "end_time": "2025-02-25T19:55:31.974447",
     "exception": false,
     "start_time": "2025-02-25T19:55:31.968460",
     "status": "completed"
    },
    "tags": []
   },
   "source": [
    "Even though, the dataset showing 0-missing values for all columns, there still potential data cleaning needed to ensure perfection. "
   ]
  },
  {
   "cell_type": "code",
   "execution_count": 4,
   "id": "29edfdda",
   "metadata": {
    "execution": {
     "iopub.execute_input": "2025-02-25T19:55:31.988079Z",
     "iopub.status.busy": "2025-02-25T19:55:31.987727Z",
     "iopub.status.idle": "2025-02-25T19:55:32.474329Z",
     "shell.execute_reply": "2025-02-25T19:55:32.473184Z"
    },
    "papermill": {
     "duration": 0.495351,
     "end_time": "2025-02-25T19:55:32.476022",
     "exception": false,
     "start_time": "2025-02-25T19:55:31.980671",
     "status": "completed"
    },
    "tags": []
   },
   "outputs": [
    {
     "data": {
      "text/plain": [
       "0"
      ]
     },
     "execution_count": 4,
     "metadata": {},
     "output_type": "execute_result"
    }
   ],
   "source": [
    "#Here we will look for any duplicates\n",
    "#getting rid of duplicates ensures no distort or bias on the result of the analysis\n",
    "\n",
    "df.duplicated().sum()\n"
   ]
  },
  {
   "cell_type": "markdown",
   "id": "9021eda8",
   "metadata": {
    "papermill": {
     "duration": 0.006154,
     "end_time": "2025-02-25T19:55:32.488707",
     "exception": false,
     "start_time": "2025-02-25T19:55:32.482553",
     "status": "completed"
    },
    "tags": []
   },
   "source": [
    "No dubplicats on the dataset,"
   ]
  },
  {
   "cell_type": "code",
   "execution_count": 5,
   "id": "dc96e866",
   "metadata": {
    "execution": {
     "iopub.execute_input": "2025-02-25T19:55:32.502798Z",
     "iopub.status.busy": "2025-02-25T19:55:32.502426Z",
     "iopub.status.idle": "2025-02-25T19:55:32.509594Z",
     "shell.execute_reply": "2025-02-25T19:55:32.508692Z"
    },
    "papermill": {
     "duration": 0.016182,
     "end_time": "2025-02-25T19:55:32.511216",
     "exception": false,
     "start_time": "2025-02-25T19:55:32.495034",
     "status": "completed"
    },
    "tags": []
   },
   "outputs": [
    {
     "data": {
      "text/plain": [
       "Age                        int64\n",
       "Gender                    object\n",
       "Cholesterol                int64\n",
       "BloodPressure              int64\n",
       "HeartRate                  int64\n",
       "BMI                      float64\n",
       "Smoker                     int64\n",
       "Diabetes                   int64\n",
       "Hypertension               int64\n",
       "FamilyHistory              int64\n",
       "PhysicalActivity           int64\n",
       "AlcoholConsumption         int64\n",
       "Diet                      object\n",
       "StressLevel                int64\n",
       "Ethnicity                 object\n",
       "Income                     int64\n",
       "EducationLevel            object\n",
       "Medication                object\n",
       "ChestPainType             object\n",
       "ECGResults                object\n",
       "MaxHeartRate               int64\n",
       "ST_Depression            float64\n",
       "ExerciseInducedAngina     object\n",
       "Slope                     object\n",
       "NumberOfMajorVessels       int64\n",
       "Thalassemia               object\n",
       "PreviousHeartAttack        int64\n",
       "StrokeHistory              int64\n",
       "Residence                 object\n",
       "EmploymentStatus          object\n",
       "MaritalStatus             object\n",
       "Outcome                   object\n",
       "dtype: object"
      ]
     },
     "execution_count": 5,
     "metadata": {},
     "output_type": "execute_result"
    }
   ],
   "source": [
    "#Veryfing the data types\n",
    "df.dtypes"
   ]
  },
  {
   "cell_type": "markdown",
   "id": "a1e8fc01",
   "metadata": {
    "papermill": {
     "duration": 0.006162,
     "end_time": "2025-02-25T19:55:32.523971",
     "exception": false,
     "start_time": "2025-02-25T19:55:32.517809",
     "status": "completed"
    },
    "tags": []
   },
   "source": [
    "All columns are on the corrct data-type. Yet, some columns(e.g.,Gender, SrtokHistory, PreviousHeartAttack, etc) can still be/get grouped under a 'category' data type. "
   ]
  },
  {
   "cell_type": "code",
   "execution_count": 6,
   "id": "3bd9ed00",
   "metadata": {
    "execution": {
     "iopub.execute_input": "2025-02-25T19:55:32.538112Z",
     "iopub.status.busy": "2025-02-25T19:55:32.537755Z",
     "iopub.status.idle": "2025-02-25T19:55:32.984052Z",
     "shell.execute_reply": "2025-02-25T19:55:32.982886Z"
    },
    "papermill": {
     "duration": 0.455529,
     "end_time": "2025-02-25T19:55:32.985980",
     "exception": false,
     "start_time": "2025-02-25T19:55:32.530451",
     "status": "completed"
    },
    "tags": []
   },
   "outputs": [
    {
     "data": {
      "text/plain": [
       "Gender                   category\n",
       "Smoker                   category\n",
       "Diabetes                 category\n",
       "Hypertension             category\n",
       "FamilyHistory            category\n",
       "PhysicalActivity         category\n",
       "AlcoholConsumption       category\n",
       "Diet                     category\n",
       "StressLevel              category\n",
       "Ethnicity                category\n",
       "Income                   category\n",
       "EducationLevel           category\n",
       "Medication               category\n",
       "ChestPainType            category\n",
       "ECGResults               category\n",
       "ExerciseInducedAngina    category\n",
       "Slope                    category\n",
       "Thalassemia              category\n",
       "PreviousHeartAttack      category\n",
       "StrokeHistory            category\n",
       "Residence                category\n",
       "EmploymentStatus         category\n",
       "MaritalStatus            category\n",
       "dtype: object"
      ]
     },
     "execution_count": 6,
     "metadata": {},
     "output_type": "execute_result"
    }
   ],
   "source": [
    "#We will convert some of the object data type columns in to a category data type columns\n",
    "\n",
    "categorics_cols = [\"Gender\", \"Smoker\", \"Diabetes\", \"Hypertension\", \"FamilyHistory\",\n",
    "   \"PhysicalActivity\", \"AlcoholConsumption\", \"Diet\", \"StressLevel\", \n",
    "   \"Ethnicity\", \"Income\", \"EducationLevel\", \"Medication\", \"ChestPainType\",\n",
    "   \"ECGResults\", \"ExerciseInducedAngina\", \"Slope\", \"Thalassemia\", \"PreviousHeartAttack\",\n",
    "   \"StrokeHistory\", \"Residence\", \"EmploymentStatus\", \"MaritalStatus\"] #A list of the columns that we want to change its data type to categorical\n",
    "df[categorics_cols] = df[categorics_cols].astype(\"category\")#changing the object data type columns into categorical columns\n",
    "df[categorics_cols].dtypes"
   ]
  },
  {
   "cell_type": "markdown",
   "id": "66661e91",
   "metadata": {
    "papermill": {
     "duration": 0.006844,
     "end_time": "2025-02-25T19:55:32.999883",
     "exception": false,
     "start_time": "2025-02-25T19:55:32.993039",
     "status": "completed"
    },
    "tags": []
   },
   "source": [
    "Our object-type columns are now a categorical type.\n",
    "that will help us in many way in our analysis. Such as, dealing with categorical data types is more memory efficient because they store unique valus only once. As well as operations like grouping/filtering are faster. "
   ]
  },
  {
   "cell_type": "code",
   "execution_count": 7,
   "id": "e5893feb",
   "metadata": {
    "execution": {
     "iopub.execute_input": "2025-02-25T19:55:33.015326Z",
     "iopub.status.busy": "2025-02-25T19:55:33.014955Z",
     "iopub.status.idle": "2025-02-25T19:55:33.027275Z",
     "shell.execute_reply": "2025-02-25T19:55:33.026387Z"
    },
    "papermill": {
     "duration": 0.021747,
     "end_time": "2025-02-25T19:55:33.028888",
     "exception": false,
     "start_time": "2025-02-25T19:55:33.007141",
     "status": "completed"
    },
    "tags": []
   },
   "outputs": [
    {
     "data": {
      "text/plain": [
       "Age                       int64\n",
       "Cholesterol               int64\n",
       "BloodPressure             int64\n",
       "HeartRate                 int64\n",
       "BMI                     float64\n",
       "MaxHeartRate              int64\n",
       "ST_Depression           float64\n",
       "NumberOfMajorVessels      int64\n",
       "dtype: object"
      ]
     },
     "execution_count": 7,
     "metadata": {},
     "output_type": "execute_result"
    }
   ],
   "source": [
    "#Next, we will ensure that all the numerical columns are type int64 or float64\n",
    "\n",
    "numerical_cols = [\"Age\", \"Cholesterol\", \"BloodPressure\", \"HeartRate\", \n",
    "  \"BMI\", \"MaxHeartRate\", \"ST_Depression\", \"NumberOfMajorVessels\"]\n",
    "df[numerical_cols].dtypes"
   ]
  },
  {
   "cell_type": "code",
   "execution_count": 8,
   "id": "8dd5559b",
   "metadata": {
    "execution": {
     "iopub.execute_input": "2025-02-25T19:55:33.044058Z",
     "iopub.status.busy": "2025-02-25T19:55:33.043729Z",
     "iopub.status.idle": "2025-02-25T19:55:33.935504Z",
     "shell.execute_reply": "2025-02-25T19:55:33.934495Z"
    },
    "papermill": {
     "duration": 0.901285,
     "end_time": "2025-02-25T19:55:33.937267",
     "exception": false,
     "start_time": "2025-02-25T19:55:33.035982",
     "status": "completed"
    },
    "tags": []
   },
   "outputs": [
    {
     "data": {
      "text/plain": [
       "False"
      ]
     },
     "execution_count": 8,
     "metadata": {},
     "output_type": "execute_result"
    }
   ],
   "source": [
    "#Now we will ensure that no value is stored as string accidentally\n",
    "\n",
    "all_numeric = all(df[col].astype(str).str.isnumeric().all() for col in numerical_cols)\n",
    "all_numeric"
   ]
  },
  {
   "cell_type": "markdown",
   "id": "a3e67176",
   "metadata": {
    "papermill": {
     "duration": 0.00726,
     "end_time": "2025-02-25T19:55:33.951630",
     "exception": false,
     "start_time": "2025-02-25T19:55:33.944370",
     "status": "completed"
    },
    "tags": []
   },
   "source": [
    "Getting a False indicates that we at least have one value in \"all_numeric\" that is not pure numeric string."
   ]
  },
  {
   "cell_type": "code",
   "execution_count": 9,
   "id": "68f124c3",
   "metadata": {
    "execution": {
     "iopub.execute_input": "2025-02-25T19:55:33.966044Z",
     "iopub.status.busy": "2025-02-25T19:55:33.965700Z",
     "iopub.status.idle": "2025-02-25T19:55:36.324757Z",
     "shell.execute_reply": "2025-02-25T19:55:36.323428Z"
    },
    "papermill": {
     "duration": 2.368199,
     "end_time": "2025-02-25T19:55:36.326430",
     "exception": false,
     "start_time": "2025-02-25T19:55:33.958231",
     "status": "completed"
    },
    "tags": []
   },
   "outputs": [
    {
     "name": "stdout",
     "output_type": "stream",
     "text": [
      "Column 'BMI' has non-numeric values: ['22.9' '33.9' '34.0' '35.0' '30.1' '38.7' '21.7' '23.1' '24.8' '24.7'\n",
      " '31.7' '29.8' '20.1' '20.3' '34.6' '24.6' '19.6' '22.1' '30.0' '33.8'\n",
      " '19.1' '28.0' '23.8' '32.0' '39.8' '27.1' '27.3' '35.2' '24.9' '25.8'\n",
      " '28.9' '36.5' '22.7' '25.1' '29.6' '28.4' '29.0' '26.4' '30.9' '23.6'\n",
      " '23.5' '19.4' '27.6' '33.0' '33.7' '22.2' '18.1' '28.6' '34.8' '34.4'\n",
      " '31.6' '35.8' '32.6' '28.7' '27.8' '30.2' '22.8' '23.2' '21.2' '38.0'\n",
      " '39.9' '33.3' '31.5' '21.4' '39.5' '28.5' '38.6' '31.0' '38.2' '39.7'\n",
      " '20.6' '39.0' '19.9' '29.3' '22.0' '38.1' '26.5' '20.7' '33.5' '39.3'\n",
      " '30.4' '25.9' '22.4' '19.8' '23.7' '35.9' '27.2' '28.8' '34.3' '25.4'\n",
      " '31.3' '25.2' '30.3' '20.5' '18.8' '31.4' '28.1' '19.5' '32.7' '30.7'\n",
      " '37.3' '36.8' '26.3' '34.5' '26.1' '39.2' '28.3' '25.6' '32.1' '38.4'\n",
      " '39.6' '25.5' '26.2' '37.9' '19.0' '21.5' '21.3' '36.3' '35.5' '31.2'\n",
      " '37.8' '24.5' '18.2' '29.2' '22.6' '29.1' '35.4' '32.4' '29.5' '37.7'\n",
      " '22.5' '27.4' '30.6' '18.4' '35.6' '37.1' '27.5' '29.4' '19.7' '23.3'\n",
      " '33.4' '30.5' '18.3' '20.8' '26.7' '31.8' '26.8' '36.4' '19.3' '21.9'\n",
      " '37.4' '33.6' '35.1' '20.0' '21.0' '37.0' '27.7' '30.8' '31.9' '26.9'\n",
      " '20.4' '18.7' '24.4' '21.1' '36.9' '38.8' '33.1' '22.3' '18.6' '38.9'\n",
      " '25.7' '36.2' '33.2' '29.7' '29.9' '24.3' '34.1' '35.3' '21.6' '18.9'\n",
      " '37.5' '38.3' '39.4' '20.2' '31.1' '32.5' '27.9' '36.1' '32.8' '34.9'\n",
      " '35.7' '38.5' '23.9' '24.2' '19.2' '25.3' '36.7' '24.1' '36.6' '36.0'\n",
      " '32.9' '39.1' '32.2' '25.0' '23.0' '32.3' '27.0' '21.8' '28.2' '20.9'\n",
      " '26.6' '37.2' '34.7' '23.4' '34.2' '26.0' '37.6' '24.0' '18.5' '40.0'\n",
      " '18.0']\n",
      "Column 'ST_Depression' has non-numeric values: ['0.52' '3.79' '0.17' '0.67' '5.0' '4.3' '2.48' '2.81' '2.23' '3.02'\n",
      " '0.85' '1.34' '1.01' '2.71' '3.48' '4.47' '0.55' '1.08' '4.1' '3.57'\n",
      " '4.76' '3.19' '0.33' '0.13' '1.99' '2.12' '3.92' '3.46' '4.17' '3.53'\n",
      " '3.75' '4.18' '4.98' '1.21' '0.92' '3.99' '3.95' '3.06' '0.25' '0.53'\n",
      " '3.9' '1.53' '2.58' '1.93' '4.19' '4.53' '4.86' '1.57' '1.07' '2.7'\n",
      " '0.57' '1.72' '1.67' '2.53' '4.32' '4.4' '1.26' '4.83' '3.27' '2.56'\n",
      " '0.14' '0.35' '0.23' '3.22' '2.84' '0.62' '1.41' '0.08' '4.7' '3.83'\n",
      " '0.98' '4.13' '4.31' '1.5' '0.49' '2.44' '1.33' '4.2' '3.61' '1.56'\n",
      " '0.02' '3.91' '2.82' '1.63' '0.24' '3.36' '1.84' '1.16' '1.66' '4.06'\n",
      " '0.27' '2.59' '3.54' '0.05' '3.8' '0.93' '2.22' '1.06' '4.87' '3.28'\n",
      " '3.09' '1.52' '2.24' '2.85' '4.28' '3.98' '1.49' '4.94' '4.09' '3.97'\n",
      " '1.6' '4.84' '4.59' '0.03' '3.87' '2.16' '3.15' '2.4' '3.45' '1.11'\n",
      " '1.64' '0.77' '0.71' '0.89' '4.35' '0.88' '1.94' '3.39' '0.28' '2.49'\n",
      " '0.15' '1.0' '3.76' '0.09' '3.17' '1.61' '1.68' '1.03' '2.26' '0.69'\n",
      " '4.96' '3.12' '4.34' '0.44' '2.41' '4.42' '2.42' '3.21' '4.69' '2.45'\n",
      " '3.2' '4.08' '2.52' '4.68' '0.12' '4.14' '1.02' '1.55' '1.86' '2.92'\n",
      " '1.3' '2.21' '1.28' '3.72' '2.93' '2.1' '0.45' '2.5' '4.52' '0.76' '3.74'\n",
      " '4.07' '1.29' '4.57' '0.18' '2.86' '3.24' '3.85' '3.67' '3.64' '2.6'\n",
      " '1.36' '1.69' '4.73' '3.14' '4.74' '0.59' '2.17' '0.84' '3.33' '1.71'\n",
      " '3.88' '0.51' '1.39' '3.43' '0.26' '0.4' '2.3' '0.86' '4.92' '4.11' '2.2'\n",
      " '4.9' '4.95' '1.4' '4.39' '1.17' '1.73' '1.65' '2.03' '4.8' '2.9' '3.63'\n",
      " '4.75' '1.12' '2.04' '4.16' '3.77' '1.87' '0.47' '4.15' '0.19' '3.56'\n",
      " '0.43' '4.64' '2.33' '1.43' '1.83' '1.24' '0.42' '3.44' '1.45' '2.78'\n",
      " '2.15' '3.68' '4.72' '4.46' '1.32' '3.31' '4.01' '0.38' '0.95' '3.4'\n",
      " '1.42' '0.11' '1.98' '3.73' '3.26' '0.48' '3.52' '0.2' '0.83' '2.13'\n",
      " '2.96' '3.3' '0.1' '3.42' '1.46' '2.8' '1.58' '2.08' '0.73' '1.7' '0.74'\n",
      " '2.76' '1.91' '4.29' '1.82' '1.2' '0.81' '3.08' '0.16' '4.67' '0.64'\n",
      " '1.85' '2.47' '1.62' '0.56' '2.88' '4.21' '2.36' '3.23' '0.21' '0.5'\n",
      " '3.55' '2.55' '0.63' '1.47' '2.66' '4.03' '0.39' '3.16' '3.35' '4.37'\n",
      " '3.69' '3.94' '2.87' '4.49' '2.09' '4.89' '1.92' '2.31' '1.74' '4.77'\n",
      " '4.36' '0.9' '2.63' '4.12' '2.05' '2.61' '2.64' '1.09' '3.37' '0.75'\n",
      " '1.44' '0.34' '3.71' '4.78' '2.74' '3.82' '4.23' '4.51' '2.83' '4.45'\n",
      " '1.88' '0.36' '1.89' '3.0' '1.9' '2.72' '2.35' '2.62' '3.81' '4.58'\n",
      " '3.04' '0.37' '0.72' '3.03' '2.43' '3.49' '2.51' '0.7' '0.46' '1.79'\n",
      " '0.8' '1.95' '3.29' '3.34' '0.78' '2.06' '2.99' '4.33' '2.18' '2.27'\n",
      " '4.44' '3.25' '3.78' '2.57' '2.89' '4.65' '2.29' '1.31' '1.38' '3.62'\n",
      " '2.07' '4.88' '2.75' '3.65' '0.97' '0.58' '2.02' '0.99' '3.07' '4.22'\n",
      " '2.46' '1.23' '0.82' '2.28' '1.05' '0.0' '3.96' '2.34' '1.14' '3.66'\n",
      " '0.68' '2.14' '4.41' '3.38' '3.86' '0.04' '0.79' '4.38' '4.93' '4.61'\n",
      " '3.11' '1.54' '2.73' '3.89' '1.51' '4.54' '2.19' '3.58' '0.07' '1.1'\n",
      " '0.94' '4.04' '3.7' '4.55' '2.79' '0.01' '4.85' '1.78' '2.67' '1.59'\n",
      " '1.96' '1.15' '2.69' '1.19' '4.56' '4.48' '3.6' '4.27' '4.91' '2.95'\n",
      " '3.18' '0.91' '0.31' '2.39' '0.6' '2.38' '0.96' '3.1' '0.66' '1.04'\n",
      " '4.63' '0.22' '3.32' '1.77' '3.93' '2.97' '3.51' '4.99' '0.87' '0.54'\n",
      " '1.18' '4.5' '2.91' '0.61' '4.79' '0.65' '2.65' '1.37' '0.32' '1.13'\n",
      " '2.68' '2.98' '1.22' '3.05' '2.94' '3.59' '4.26' '4.43' '1.81' '2.11'\n",
      " '4.0' '2.25' '4.71' '3.47' '4.25' '1.75' '4.81' '4.62' '1.35' '4.02'\n",
      " '3.41' '0.29' '0.3' '2.01' '4.24' '1.25' '2.32' '4.6' '0.41' '2.77'\n",
      " '3.13' '1.27' '0.06' '3.5' '3.84' '1.97' '3.01' '4.05' '4.97' '4.66'\n",
      " '2.54' '1.48' '1.76' '2.0' '1.8' '2.37' '4.82']\n"
     ]
    }
   ],
   "source": [
    "#We will troubleshoot and find the values which are causing the problem\n",
    "\n",
    "for col in numerical_cols:\n",
    "    if not df[col].astype(str).str.isnumeric().all():#Checkin if the values are numeric\n",
    "        print(f\"Column '{col}' has non-numeric values:\", df[col].astype(str)[~df[col].astype(str).str.isnumeric()].unique())\n",
    "        "
   ]
  },
  {
   "cell_type": "markdown",
   "id": "bcf4b63c",
   "metadata": {
    "papermill": {
     "duration": 0.006776,
     "end_time": "2025-02-25T19:55:36.340552",
     "exception": false,
     "start_time": "2025-02-25T19:55:36.333776",
     "status": "completed"
    },
    "tags": []
   },
   "source": [
    "The output shows that the two columns BMI and ST_Depression have values which are not numeric.\n",
    "str.isnumeric() only accepts whole numbers without decimal point. However, these values are valid floating-point numbers, not non-numeric data."
   ]
  },
  {
   "cell_type": "code",
   "execution_count": 10,
   "id": "03559de2",
   "metadata": {
    "execution": {
     "iopub.execute_input": "2025-02-25T19:55:36.356012Z",
     "iopub.status.busy": "2025-02-25T19:55:36.355649Z",
     "iopub.status.idle": "2025-02-25T19:55:36.363960Z",
     "shell.execute_reply": "2025-02-25T19:55:36.363047Z"
    },
    "papermill": {
     "duration": 0.017923,
     "end_time": "2025-02-25T19:55:36.365522",
     "exception": false,
     "start_time": "2025-02-25T19:55:36.347599",
     "status": "completed"
    },
    "tags": []
   },
   "outputs": [
    {
     "data": {
      "text/plain": [
       "(dtype('float64'), dtype('float64'))"
      ]
     },
     "execution_count": 10,
     "metadata": {},
     "output_type": "execute_result"
    }
   ],
   "source": [
    "#converts the columns (BMI and ST_Depression) to float64\n",
    "\n",
    "df[\"BMI\"] = pd.to_numeric(df[\"BMI\"], errors='coerce')\n",
    "df[\"ST_Depression\"] = pd.to_numeric(df[\"ST_Depression\"], errors='coerce')\n",
    "\n",
    "df[\"BMI\"].dtypes, df[\"ST_Depression\"].dtypes"
   ]
  },
  {
   "cell_type": "code",
   "execution_count": 11,
   "id": "84d9f22c",
   "metadata": {
    "execution": {
     "iopub.execute_input": "2025-02-25T19:55:36.381007Z",
     "iopub.status.busy": "2025-02-25T19:55:36.380600Z",
     "iopub.status.idle": "2025-02-25T19:55:36.401315Z",
     "shell.execute_reply": "2025-02-25T19:55:36.400374Z"
    },
    "papermill": {
     "duration": 0.030417,
     "end_time": "2025-02-25T19:55:36.403073",
     "exception": false,
     "start_time": "2025-02-25T19:55:36.372656",
     "status": "completed"
    },
    "tags": []
   },
   "outputs": [
    {
     "data": {
      "text/plain": [
       "(372974, 372974)"
      ]
     },
     "execution_count": 11,
     "metadata": {},
     "output_type": "execute_result"
    }
   ],
   "source": [
    "#Handele NaN Values\n",
    "df[\"BMI\"] = df[\"BMI\"].fillna(df[\"BMI\"].mean()).infer_objects(copy=False)\n",
    "df[\"ST_Depression\"] = df[\"ST_Depression\"].fillna(df[\"ST_Depression\"].mean()).infer_objects(copy=False)\n",
    "\n",
    "len(df[\"BMI\"].isna()), len(df[\"ST_Depression\"].isna())"
   ]
  },
  {
   "cell_type": "markdown",
   "id": "3dec38af",
   "metadata": {
    "papermill": {
     "duration": 0.0073,
     "end_time": "2025-02-25T19:55:36.417891",
     "exception": false,
     "start_time": "2025-02-25T19:55:36.410591",
     "status": "completed"
    },
    "tags": []
   },
   "source": [
    "this indicats that our two columns BMI and ST_Depression has no missing values"
   ]
  },
  {
   "cell_type": "markdown",
   "id": "d1c4d396",
   "metadata": {
    "papermill": {
     "duration": 0.006995,
     "end_time": "2025-02-25T19:55:36.431982",
     "exception": false,
     "start_time": "2025-02-25T19:55:36.424987",
     "status": "completed"
    },
    "tags": []
   },
   "source": [
    "Next step after Fix Data Types, is to Detect and Treat Outliers.\n",
    "Outliers are extrem values (e.g., Age=150). the IQR (InterQuartile Range) is a statical method to identify them. \n",
    "We will preform the IQR on all the numerical data type columns."
   ]
  },
  {
   "cell_type": "code",
   "execution_count": 12,
   "id": "54e20bfa",
   "metadata": {
    "execution": {
     "iopub.execute_input": "2025-02-25T19:55:36.447540Z",
     "iopub.status.busy": "2025-02-25T19:55:36.447194Z",
     "iopub.status.idle": "2025-02-25T19:55:36.452548Z",
     "shell.execute_reply": "2025-02-25T19:55:36.451522Z"
    },
    "papermill": {
     "duration": 0.014941,
     "end_time": "2025-02-25T19:55:36.454053",
     "exception": false,
     "start_time": "2025-02-25T19:55:36.439112",
     "status": "completed"
    },
    "tags": []
   },
   "outputs": [],
   "source": [
    "#Calculating IQR for numerical type columns\n",
    "#We will define a column that caluculate the IQR for us\n",
    "\n",
    "def calculate_iqr_bounds(df, columns):\n",
    "     results = {}\n",
    "     for col in columns:\n",
    "        Q1 = df[col].quantile(0.25)\n",
    "        Q3 = df[col].quantile(0.75)\n",
    "        IQR = Q3 - Q1\n",
    "        lower_bound = Q1 - 1.5 * IQR\n",
    "        upper_bound = Q3 + 1.5 * IQR\n",
    "        results[col] = {\n",
    "            f\"{col}: Lower bound = {lower_bound:.2f}. Values below this may be outliers.\",\n",
    "            f\"{col}: Upper bound = {upper_bound:.2f}. Values above this may be outliers.\"\n",
    "        }\n",
    "     return results"
   ]
  },
  {
   "cell_type": "markdown",
   "id": "c9c5a479",
   "metadata": {
    "papermill": {
     "duration": 0.006805,
     "end_time": "2025-02-25T19:55:36.468315",
     "exception": false,
     "start_time": "2025-02-25T19:55:36.461510",
     "status": "completed"
    },
    "tags": []
   },
   "source": [
    "This is a function that will not only help us calculating the IQR, but it will also print out the upper and lower ranges for the column.\n",
    "Next we will us the function with all the numerical columns. Then, we will treat Outliers"
   ]
  },
  {
   "cell_type": "code",
   "execution_count": 13,
   "id": "e5512747",
   "metadata": {
    "execution": {
     "iopub.execute_input": "2025-02-25T19:55:36.483579Z",
     "iopub.status.busy": "2025-02-25T19:55:36.483232Z",
     "iopub.status.idle": "2025-02-25T19:55:36.695587Z",
     "shell.execute_reply": "2025-02-25T19:55:36.694508Z"
    },
    "papermill": {
     "duration": 0.222021,
     "end_time": "2025-02-25T19:55:36.697304",
     "exception": false,
     "start_time": "2025-02-25T19:55:36.475283",
     "status": "completed"
    },
    "tags": []
   },
   "outputs": [
    {
     "data": {
      "text/plain": [
       "{'Age': {'Age: Lower bound = 1.00. Values below this may be outliers.',\n",
       "  'Age: Upper bound = 113.00. Values above this may be outliers.'},\n",
       " 'Cholesterol': {'Cholesterol: Lower bound = -1.00. Values below this may be outliers.',\n",
       "  'Cholesterol: Upper bound = 399.00. Values above this may be outliers.'},\n",
       " 'BloodPressure': {'BloodPressure: Lower bound = 44.50. Values below this may be outliers.',\n",
       "  'BloodPressure: Upper bound = 224.50. Values above this may be outliers.'},\n",
       " 'HeartRate': {'HeartRate: Lower bound = 27.50. Values below this may be outliers.',\n",
       "  'HeartRate: Upper bound = 151.50. Values above this may be outliers.'},\n",
       " 'BMI': {'BMI: Lower bound = 7.00. Values below this may be outliers.',\n",
       "  'BMI: Upper bound = 51.00. Values above this may be outliers.'},\n",
       " 'MaxHeartRate': {'MaxHeartRate: Lower bound = 49.00. Values below this may be outliers.',\n",
       "  'MaxHeartRate: Upper bound = 249.00. Values above this may be outliers.'},\n",
       " 'ST_Depression': {'ST_Depression: Lower bound = -2.50. Values below this may be outliers.',\n",
       "  'ST_Depression: Upper bound = 7.50. Values above this may be outliers.'},\n",
       " 'NumberOfMajorVessels': {'NumberOfMajorVessels: Lower bound = -3.00. Values below this may be outliers.',\n",
       "  'NumberOfMajorVessels: Upper bound = 5.00. Values above this may be outliers.'}}"
      ]
     },
     "execution_count": 13,
     "metadata": {},
     "output_type": "execute_result"
    }
   ],
   "source": [
    "calculate_iqr_bounds(df, \n",
    "['Age',\n",
    " 'Cholesterol',\n",
    " 'BloodPressure',\n",
    " 'HeartRate',\n",
    " 'BMI',\n",
    " 'MaxHeartRate',\n",
    " 'ST_Depression',\n",
    " 'NumberOfMajorVessels'])"
   ]
  },
  {
   "cell_type": "markdown",
   "id": "ac97c2bd",
   "metadata": {
    "papermill": {
     "duration": 0.007042,
     "end_time": "2025-02-25T19:55:36.711831",
     "exception": false,
     "start_time": "2025-02-25T19:55:36.704789",
     "status": "completed"
    },
    "tags": []
   },
   "source": [
    "Using the function we created (the \"calculate_iqr_bounds(df, columns)\" function) we managed to find the upper and lower bounds for each numerical column"
   ]
  },
  {
   "cell_type": "markdown",
   "id": "3ed879cc",
   "metadata": {
    "papermill": {
     "duration": 0.00707,
     "end_time": "2025-02-25T19:55:36.726136",
     "exception": false,
     "start_time": "2025-02-25T19:55:36.719066",
     "status": "completed"
    },
    "tags": []
   },
   "source": [
    "The next step is to Treat the Outliers. And when preforming this step you get to choose between three options\n",
    "1. Cap Values: Replacing outliers with bound values\n",
    "2. Remove: Droping the outlier rows\n",
    "3. Keep: if outliers are valid\n",
    "Based on our dataset we will choose to Cap Values"
   ]
  },
  {
   "cell_type": "markdown",
   "id": "1954421d",
   "metadata": {
    "papermill": {
     "duration": 0.006866,
     "end_time": "2025-02-25T19:55:36.740358",
     "exception": false,
     "start_time": "2025-02-25T19:55:36.733492",
     "status": "completed"
    },
    "tags": []
   },
   "source": [
    "There is one important operation needs to be done before actually treating outliers. That is to determin whether outliers are errors or valid data. To do that we will preform a statistical investigation that is, we will use distribution visualization to. particularly we will use boxplot which will help us to display median, quartiles, and any points that fall outside the typical rang. "
   ]
  },
  {
   "cell_type": "code",
   "execution_count": 14,
   "id": "9eb93875",
   "metadata": {
    "execution": {
     "iopub.execute_input": "2025-02-25T19:55:36.756634Z",
     "iopub.status.busy": "2025-02-25T19:55:36.756178Z",
     "iopub.status.idle": "2025-02-25T19:55:39.133039Z",
     "shell.execute_reply": "2025-02-25T19:55:39.132017Z"
    },
    "papermill": {
     "duration": 2.386829,
     "end_time": "2025-02-25T19:55:39.134594",
     "exception": false,
     "start_time": "2025-02-25T19:55:36.747765",
     "status": "completed"
    },
    "tags": []
   },
   "outputs": [
    {
     "data": {
      "text/plain": [
       "Text(0.5, 1.0, 'Boxplot of Numerical Features')"
      ]
     },
     "execution_count": 14,
     "metadata": {},
     "output_type": "execute_result"
    },
    {
     "data": {
      "image/png": "[encoded data removed]",
      "text/plain": [
       "<Figure size 1200x600 with 1 Axes>"
      ]
     },
     "metadata": {},
     "output_type": "display_data"
    }
   ],
   "source": [
    "import seaborn as sns\n",
    "import matplotlib.pyplot as plt\n",
    "\n",
    "#Plotting a boxplot\n",
    "\n",
    "sns.set_style(\"whitegrid\")\n",
    "plt.figure(figsize=(12,6))\n",
    "\n",
    "sns.boxplot(data=df[numerical_cols])\n",
    "plt.xticks(rotation=45)\n",
    "plt.title(\"Boxplot of Numerical Features\")"
   ]
  },
  {
   "cell_type": "code",
   "execution_count": 15,
   "id": "63f446d0",
   "metadata": {
    "execution": {
     "iopub.execute_input": "2025-02-25T19:55:39.154136Z",
     "iopub.status.busy": "2025-02-25T19:55:39.153626Z",
     "iopub.status.idle": "2025-02-25T19:55:39.411949Z",
     "shell.execute_reply": "2025-02-25T19:55:39.410838Z"
    },
    "papermill": {
     "duration": 0.269661,
     "end_time": "2025-02-25T19:55:39.413556",
     "exception": false,
     "start_time": "2025-02-25T19:55:39.143895",
     "status": "completed"
    },
    "tags": []
   },
   "outputs": [
    {
     "data": {
      "text/plain": [
       "Text(0.5, 1.0, 'ST_Depression and NumberOfMajorVessels')"
      ]
     },
     "execution_count": 15,
     "metadata": {},
     "output_type": "execute_result"
    },
    {
     "data": {
      "image/png": "[encoded data removed]",
      "text/plain": [
       "<Figure size 640x480 with 1 Axes>"
      ]
     },
     "metadata": {},
     "output_type": "display_data"
    }
   ],
   "source": [
    "#Plotting ST_Depression and NumberOfMajorVessels for better readablity\n",
    "sns.boxplot(data=df[[\"ST_Depression\", \"NumberOfMajorVessels\"]])\n",
    "plt.xticks(rotation=45)\n",
    "plt.title(\"ST_Depression and NumberOfMajorVessels\")"
   ]
  },
  {
   "cell_type": "markdown",
   "id": "25c5ee77",
   "metadata": {
    "papermill": {
     "duration": 0.008589,
     "end_time": "2025-02-25T19:55:39.431289",
     "exception": false,
     "start_time": "2025-02-25T19:55:39.422700",
     "status": "completed"
    },
    "tags": []
   },
   "source": [
    "These tow visualizations indecates that no extreme outliers are present for our numerical datasets. Thus, we can move to the next step."
   ]
  },
  {
   "cell_type": "markdown",
   "id": "273f70e3",
   "metadata": {
    "papermill": {
     "duration": 0.008602,
     "end_time": "2025-02-25T19:55:39.448857",
     "exception": false,
     "start_time": "2025-02-25T19:55:39.440255",
     "status": "completed"
    },
    "tags": []
   },
   "source": [
    "Resolve Inconsistencies: typos, mismatched categories, or contradicoty data(e.g., age = 5, smoker=yes) which reduces the quality of the data"
   ]
  },
  {
   "cell_type": "code",
   "execution_count": 16,
   "id": "08b7c1f1",
   "metadata": {
    "execution": {
     "iopub.execute_input": "2025-02-25T19:55:39.468224Z",
     "iopub.status.busy": "2025-02-25T19:55:39.467852Z",
     "iopub.status.idle": "2025-02-25T19:55:39.477912Z",
     "shell.execute_reply": "2025-02-25T19:55:39.477003Z"
    },
    "papermill": {
     "duration": 0.021423,
     "end_time": "2025-02-25T19:55:39.479377",
     "exception": false,
     "start_time": "2025-02-25T19:55:39.457954",
     "status": "completed"
    },
    "tags": []
   },
   "outputs": [
    {
     "data": {
      "text/plain": [
       "Gender                   category\n",
       "Smoker                   category\n",
       "Diabetes                 category\n",
       "Hypertension             category\n",
       "FamilyHistory            category\n",
       "PhysicalActivity         category\n",
       "AlcoholConsumption       category\n",
       "Diet                     category\n",
       "StressLevel              category\n",
       "Ethnicity                category\n",
       "Income                   category\n",
       "EducationLevel           category\n",
       "Medication               category\n",
       "ChestPainType            category\n",
       "ECGResults               category\n",
       "ExerciseInducedAngina    category\n",
       "Slope                    category\n",
       "Thalassemia              category\n",
       "PreviousHeartAttack      category\n",
       "StrokeHistory            category\n",
       "Residence                category\n",
       "EmploymentStatus         category\n",
       "MaritalStatus            category\n",
       "dtype: object"
      ]
     },
     "execution_count": 16,
     "metadata": {},
     "output_type": "execute_result"
    }
   ],
   "source": [
    "df[categorics_cols].dtypes"
   ]
  },
  {
   "cell_type": "code",
   "execution_count": 17,
   "id": "ce19155a",
   "metadata": {
    "execution": {
     "iopub.execute_input": "2025-02-25T19:55:39.500149Z",
     "iopub.status.busy": "2025-02-25T19:55:39.499814Z",
     "iopub.status.idle": "2025-02-25T19:55:39.520586Z",
     "shell.execute_reply": "2025-02-25T19:55:39.519548Z"
    },
    "papermill": {
     "duration": 0.032902,
     "end_time": "2025-02-25T19:55:39.522230",
     "exception": false,
     "start_time": "2025-02-25T19:55:39.489328",
     "status": "completed"
    },
    "tags": []
   },
   "outputs": [
    {
     "data": {
      "text/html": [
       "<div>\n",
       "<style scoped>\n",
       "    .dataframe tbody tr th:only-of-type {\n",
       "        vertical-align: middle;\n",
       "    }\n",
       "\n",
       "    .dataframe tbody tr th {\n",
       "        vertical-align: top;\n",
       "    }\n",
       "\n",
       "    .dataframe thead th {\n",
       "        text-align: right;\n",
       "    }\n",
       "</style>\n",
       "<table border=\"1\" class=\"dataframe\">\n",
       "  <thead>\n",
       "    <tr style=\"text-align: right;\">\n",
       "      <th></th>\n",
       "      <th>Age</th>\n",
       "      <th>Gender</th>\n",
       "      <th>Cholesterol</th>\n",
       "      <th>BloodPressure</th>\n",
       "      <th>HeartRate</th>\n",
       "      <th>BMI</th>\n",
       "      <th>Smoker</th>\n",
       "      <th>Diabetes</th>\n",
       "      <th>Hypertension</th>\n",
       "      <th>FamilyHistory</th>\n",
       "      <th>...</th>\n",
       "      <th>ExerciseInducedAngina</th>\n",
       "      <th>Slope</th>\n",
       "      <th>NumberOfMajorVessels</th>\n",
       "      <th>Thalassemia</th>\n",
       "      <th>PreviousHeartAttack</th>\n",
       "      <th>StrokeHistory</th>\n",
       "      <th>Residence</th>\n",
       "      <th>EmploymentStatus</th>\n",
       "      <th>MaritalStatus</th>\n",
       "      <th>Outcome</th>\n",
       "    </tr>\n",
       "  </thead>\n",
       "  <tbody>\n",
       "  </tbody>\n",
       "</table>\n",
       "<p>0 rows × 32 columns</p>\n",
       "</div>"
      ],
      "text/plain": [
       "Empty DataFrame\n",
       "Columns: [Age, Gender, Cholesterol, BloodPressure, HeartRate, BMI, Smoker, Diabetes, Hypertension, FamilyHistory, PhysicalActivity, AlcoholConsumption, Diet, StressLevel, Ethnicity, Income, EducationLevel, Medication, ChestPainType, ECGResults, MaxHeartRate, ST_Depression, ExerciseInducedAngina, Slope, NumberOfMajorVessels, Thalassemia, PreviousHeartAttack, StrokeHistory, Residence, EmploymentStatus, MaritalStatus, Outcome]\n",
       "Index: []\n",
       "\n",
       "[0 rows x 32 columns]"
      ]
     },
     "execution_count": 17,
     "metadata": {},
     "output_type": "execute_result"
    }
   ],
   "source": [
    "df[\"Gender\"].value_counts()#Spotting issues(e.g., Meal instade of Male)\n",
    "\n",
    "#Incase of a typos\n",
    "df[\"Gender\"].replace({'Meal': 'Male'})\n",
    "\n",
    "df[(df[\"Smoker\"] == \"yes\") & (df[\"Age\"] < 10)]#This checks if a smoker is actually under the age of 10. In that case we would either correct or drop these values\n"
   ]
  },
  {
   "cell_type": "markdown",
   "id": "ff6f79c7",
   "metadata": {
    "papermill": {
     "duration": 0.009022,
     "end_time": "2025-02-25T19:55:39.540773",
     "exception": false,
     "start_time": "2025-02-25T19:55:39.531751",
     "status": "completed"
    },
    "tags": []
   },
   "source": [
    "These operations are done repeatedly on all the categorical columns\n",
    "Fortunately our dataset has no any Inconsistency that would need to be resolved.  "
   ]
  },
  {
   "cell_type": "markdown",
   "id": "655d774e",
   "metadata": {
    "papermill": {
     "duration": 0.008922,
     "end_time": "2025-02-25T19:55:39.558909",
     "exception": false,
     "start_time": "2025-02-25T19:55:39.549987",
     "status": "completed"
    },
    "tags": []
   },
   "source": [
    "At this stage, we can happily say that our data set has been cleand and fully ready to be analyzed and extract insights out of it to the best levels.\n",
    "Here is a recap of what we have done in this process of cleaning our dataset\n",
    "1. Handle Missing Values\n",
    "2. Remove duplicates (no in our case)\n",
    "3. Fix data types\n",
    "4. Detect and treate outliers (only detected them we have not had to treat them\n",
    "5. Check for Inconsistencies"
   ]
  }
 ],
 "metadata": {
  "kaggle": {
   "accelerator": "none",
   "dataSources": [
    {
     "datasetId": 6707768,
     "sourceId": 10806451,
     "sourceType": "datasetVersion"
    }
   ],
   "dockerImageVersionId": 30918,
   "isGpuEnabled": false,
   "isInternetEnabled": true,
   "language": "python",
   "sourceType": "notebook"
  },
  "kernelspec": {
   "display_name": "Python 3",
   "language": "python",
   "name": "python3"
  },
  "language_info": {
   "codemirror_mode": {
    "name": "ipython",
    "version": 3
   },
   "file_extension": ".py",
   "mimetype": "text/x-python",
   "name": "python",
   "nbconvert_exporter": "python",
   "pygments_lexer": "ipython3",
   "version": "3.10.12"
  },
  "papermill": {
   "default_parameters": {},
   "duration": 14.603501,
   "end_time": "2025-02-25T19:55:40.289244",
   "environment_variables": {},
   "exception": null,
   "input_path": "__notebook__.ipynb",
   "output_path": "__notebook__.ipynb",
   "parameters": {},
   "start_time": "2025-02-25T19:55:25.685743",
   "version": "2.6.0"
  }
 },
 "nbformat": 4,
 "nbformat_minor": 5
}
